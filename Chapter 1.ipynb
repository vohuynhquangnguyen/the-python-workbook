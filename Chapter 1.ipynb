{
 "cells": [
  {
   "cell_type": "code",
   "execution_count": null,
   "id": "0bddb8c3",
   "metadata": {},
   "outputs": [],
   "source": [
    "import math"
   ]
  },
  {
   "cell_type": "markdown",
   "id": "6d0192ab",
   "metadata": {},
   "source": [
    "## Exercise 1:\n",
    "Create a program that displays your name and complete mailing address. The address\n",
    "should be printed in the format that is normally used in the area where you live. Your\n",
    "program does not need to read any input from the user."
   ]
  },
  {
   "cell_type": "code",
   "execution_count": null,
   "id": "f8a14cf8",
   "metadata": {},
   "outputs": [],
   "source": [
    "name = 'Vo Huynh Quang Nguyen'\n",
    "address = '389/3/2c Quoc Lo 13, Hiep Binh Phuoc, Thu Duc, HCMC, Vietnam'\n",
    "print(name)\n",
    "print(address)"
   ]
  },
  {
   "cell_type": "markdown",
   "id": "977aba0d",
   "metadata": {},
   "source": [
    "## Exercise 2:\n",
    "Write a program that asks the user to enter his or her name. The program should\n",
    "respond with a message that says hello to the user, using his or her name."
   ]
  },
  {
   "cell_type": "code",
   "execution_count": null,
   "id": "442df3c6",
   "metadata": {},
   "outputs": [],
   "source": [
    "print(input('Please enter your name: '))\n",
    "print('Hello!')"
   ]
  },
  {
   "cell_type": "markdown",
   "id": "7594ff9b",
   "metadata": {},
   "source": [
    "## Exercise 3:\n",
    "Write a program that asks the user to enter the width and length of a room. Once these values have been read, your program should compute and display the area of the room. The length and the width will be entered as ﬂoating-point numbers. Include units in your prompt and output message; either feet or meters, depending on which unit you are more comfortable working with."
   ]
  },
  {
   "cell_type": "code",
   "execution_count": null,
   "id": "32b3558b",
   "metadata": {},
   "outputs": [],
   "source": [
    "width = float(input('Please enter width of a room [m]: '))\n",
    "length = float(input('Please enter length of a room [m]: '))\n",
    "area = width *  length\n",
    "print('Area of the room is: %.2f' %area)"
   ]
  },
  {
   "cell_type": "markdown",
   "id": "d8cffcfa",
   "metadata": {},
   "source": [
    "# Exercise 4:\n",
    "Create a program that reads the length and width of a farmer’s ﬁeld from the user in feet. Display the area of the ﬁeld in acres."
   ]
  },
  {
   "cell_type": "code",
   "execution_count": null,
   "id": "caad91d2",
   "metadata": {},
   "outputs": [],
   "source": [
    "width = float(input('Please enter width of a room [feet]: '))\n",
    "length = float(input('Please enter length of a room [feet]: '))\n",
    "area = (width *  length) / 43560\n",
    "print('The field has an area of %.2f in acres.' %area)"
   ]
  },
  {
   "cell_type": "markdown",
   "id": "275b1fa6",
   "metadata": {},
   "source": [
    "## Exercise 5: Bottle Deposits\n",
    "\n",
    "In many jurisdictions a small deposit is added to drink containers to encourage people to recycle them. In one particular jurisdiction, drink containers holding one liter or less have a $\\$$0.10 deposit, and drink containers holding more than one liter have a $\\$$0.25 deposit.\n",
    "\n",
    "Write a program that reads the number of containers of each size from the user.\n",
    "Your program should continue by computing and displaying the refund that will be received for returning those containers. Format the output so that it includes a dollar sign and two digits to the right of the decimal point."
   ]
  },
  {
   "cell_type": "code",
   "execution_count": null,
   "id": "71ea9fb3",
   "metadata": {},
   "outputs": [],
   "source": [
    "small = float(input('Please enter the number of containers holding one liter or less: '))\n",
    "large = float(input('Please enter the number of containers holding more than one liter: '))\n",
    "total = small * 0.1 + large * 0.25\n",
    "print('The total refund is: %.2f [$]' %total)"
   ]
  },
  {
   "cell_type": "markdown",
   "id": "5db7d191",
   "metadata": {},
   "source": [
    "## Exercise 6: Tax and Tip\n",
    "\n",
    "The program that you create for this exercise will begin by reading the cost of a meal\n",
    "ordered at a restaurant from the user. Then your program will compute the tax and\n",
    "tip for the meal. Use your local tax rate when computing the amount of tax owing.\n",
    "Compute the tip as 18 percent of the meal amount (without the tax). The output from\n",
    "your program should include the tax amount, the tip amount, and the grand total for\n",
    "the meal including both the tax and the tip. Format the output so that all of the values\n",
    "are displayed using two decimal places."
   ]
  },
  {
   "cell_type": "code",
   "execution_count": null,
   "id": "a711c7c4",
   "metadata": {},
   "outputs": [],
   "source": [
    "order = float(input('Please enter the cost of this meal [$]: '))\n",
    "tax = 0.24 * order\n",
    "tip = 0.18 * order\n",
    "total = order * (1 + 0.24 + 0.18)\n",
    "print('The taxed amount for this meal is %.2f [$]' %tax)\n",
    "print('The tip amount for this meal is %.2f [$]' %tip)\n",
    "print('The final cost for this meal is %.2f [$]' %total)"
   ]
  },
  {
   "cell_type": "markdown",
   "id": "9d80f9bd",
   "metadata": {},
   "source": [
    "## Exercise 7: Sum of the First n Positive Integers\n",
    "\n",
    "\n",
    "Write a program that reads a positive integer, n, from the user and then displays the\n",
    "sum of all of the integers from 1 to n. The sum of the ﬁrst n positive integers can be\n",
    "computed using the formula:\n",
    "$$\n",
    "sum = \\frac{(n)(n + 1)}{2}\n",
    "$$"
   ]
  },
  {
   "cell_type": "code",
   "execution_count": null,
   "id": "1fcdb4fa",
   "metadata": {},
   "outputs": [],
   "source": [
    "n = int(input('Please enter a positive integer to compute: '))\n",
    "sum = (n * (n + 1)) / 2\n",
    "print('The resulted sum of the first n positive integers is: %d' %sum)"
   ]
  },
  {
   "cell_type": "markdown",
   "id": "c4f32551",
   "metadata": {},
   "source": [
    "## Exercise 9: Compound Interest\n",
    "Pretend that you have just opened a new savings account that earns 4 percent interest\n",
    "per year. The interest that you earn is paid at the end of the year, and is added to the\n",
    "balance of the savings account. Write a program that begins by reading the amount of\n",
    "money deposited into the account from the user. Then your program should compute\n",
    "and display the amount in the savings account after 1, 2, and 3 years. Display each\n",
    "amount so that it is rounded to 2 decimal places."
   ]
  },
  {
   "cell_type": "code",
   "execution_count": null,
   "id": "db410875",
   "metadata": {},
   "outputs": [],
   "source": [
    "amount = float(input('Please enter the amount of saving: '))\n",
    "interest = 0.04\n",
    "n = 1\n",
    "\n",
    "#Year 1:\n",
    "time = 1\n",
    "earned = amount * (1 + interest / n) * (n * time)\n",
    "print('The earned amount after %d year is: %.2f' %(time, earned))\n",
    "\n",
    "#Year 2:\n",
    "time = 2\n",
    "earned = amount * (1 + interest / n) * (n * time)\n",
    "print('The earned amount after %d year is: %.2f' %(time, earned))\n",
    "\n",
    "#Year 3:\n",
    "time = 3\n",
    "earned = amount * (1 + interest / n) * (n * time)\n",
    "print('The earned amount after %d year is: %.2f' %(time, earned))"
   ]
  },
  {
   "cell_type": "markdown",
   "id": "9a11915c",
   "metadata": {},
   "source": [
    "## Exercise 11: Fuel Efﬁciency\n",
    "In the United States, fuel efﬁciency for vehicles is normally expressed in miles-per-\n",
    "gallon (MPG). In Canada, fuel efﬁciency is normally expressed in liters-per-hundred\n",
    "kilometers (L/100 km). Use your research skills to determine how to convert from\n",
    "MPG to L/100 km. Then create a program that reads a value from the user in American\n",
    "units and displays the equivalent fuel efﬁciency in Canadian units."
   ]
  },
  {
   "cell_type": "code",
   "execution_count": null,
   "id": "8c4ec1a6",
   "metadata": {},
   "outputs": [],
   "source": [
    "value = float(input('Please enter the fuel efficency in [MPG]: '))\n",
    "conversion_rate = 235.21458329475\n",
    "converted = value * conversion_rate\n",
    "print('The fuel efficiency in [L/100 km] is: %.4f' %converted)"
   ]
  },
  {
   "cell_type": "markdown",
   "id": "585c86a3",
   "metadata": {},
   "source": [
    "## Exercise 12: Distance Between Two Points on Earth\n",
    "\n",
    "The surface of the Earth is curved, and the distance between degrees of longitude\n",
    "varies with latitude. As a result, ﬁnding the distance between two points on the surface\n",
    "of the Earth is more complicated than simply using the Pythagorean theorem.\n",
    "Let (t1, g1) and (t2, g2) be the latitude and longitude of two points on the Earth’s\n",
    "surface. The distance between these points, following the surface of the Earth, in\n",
    "kilometers is:\n",
    "\n",
    "distance = 6371.01 × arccos(sin(t1) × sin(t2) + cos(t1) × cos(t2) × cos(g1 − g2))\n",
    "\n",
    "Create a program that allows the user to enter the latitude and longitude of two\n",
    "points on the Earth in degrees. Your program should display the distance between\n",
    "the points, following the surface of the earth, in kilometers."
   ]
  },
  {
   "cell_type": "code",
   "execution_count": null,
   "id": "18dfc1e5",
   "metadata": {},
   "outputs": [],
   "source": [
    "from math import sin, cos, radians, acos\n",
    "\n",
    "t1 = float(input('Please enter the latitude of the 1st point: '))\n",
    "g1 = float(input('Please enter the longitude of the 1st point: '))\n",
    "\n",
    "t2 = float(input('Please enter the latitude of the 2nd point: '))\n",
    "g2 = float(input('Please enter the longitude of the 2nd point: '))\n",
    "\n",
    "###\n",
    "t1 = radians(t1)\n",
    "g1 = radians(g1)\n",
    "\n",
    "t2 = radians(t2)\n",
    "g2 = radians(g2)\n",
    "\n",
    "###\n",
    "R = 6371.01\n",
    "distance = R * acos(sin(t1) * sin(t2) + cos(t1) * cos(t2) * cos(g1 -g2))\n",
    "print('The distance between the 1st point and 2nd point is: %.2f' %distance)"
   ]
  },
  {
   "cell_type": "markdown",
   "id": "8615f5c6",
   "metadata": {},
   "source": [
    "## Exercise 13: Making Change\n",
    "\n",
    "Consider the software that runs on a self-checkout machine. One task that it must be\n",
    "able to perform is to determine how much change to provide when the shopper pays\n",
    "for a purchase with cash.\n",
    "Write a program that begins by reading a number of cents from the user as an\n",
    "integer. Then your program should compute and display the denominations of the\n",
    "coins that should be used to give that amount of change to the shopper. The change\n",
    "should be given using as few coins as possible. Assume that the machine is loaded\n",
    "with pennies, nickels, dimes, quarters, loonies and toonies."
   ]
  },
  {
   "cell_type": "code",
   "execution_count": null,
   "id": "4d1a5565",
   "metadata": {},
   "outputs": [],
   "source": [
    "cents_per_tonnies = 200\n",
    "cents_per_loonies  = 100\n",
    "cents_per_quarter = 25\n",
    "cents_per_dime = 10\n",
    "cents_per_nickel = 5\n",
    "cents_per_penny = 1\n",
    "\n",
    "cents = int(input('Please enter the amount of purchase [cents]: '))\n",
    "\n",
    "print('Change to tonnies:', cents // cents_per_tonnies)\n",
    "cents = cents % cents_per_tonnies\n",
    "\n",
    "print('Change to lonnies:', cents // cents_per_loonies)\n",
    "cents = cents % cents_per_loonies\n",
    "\n",
    "print('Change to quarter:', cents // cents_per_quarter)\n",
    "cents = cents % cents_per_quarter\n",
    "\n",
    "print('Change to dime:', cents // cents_per_dime)\n",
    "cents = cents % cents_per_dime\n",
    "\n",
    "print('Change to nickel:', cents // cents_per_nickel)\n",
    "cents = cents % cents_per_nickel\n",
    "\n",
    "print('Change to penny:', cents // cents_per_penny)\n",
    "cents = cents % cents_per_penny"
   ]
  },
  {
   "cell_type": "markdown",
   "id": "848cb8ed",
   "metadata": {},
   "source": [
    "## Exercise 14: Height Units\n",
    "\n",
    "Many people think about their height in feet and inches, even in some countries that\n",
    "primarily use the metric system. Write a program that reads a number of feet from\n",
    "the user, followed by a number of inches. Once these values are read, your program\n",
    "should compute and display the equivalent number of centimeters."
   ]
  },
  {
   "cell_type": "code",
   "execution_count": null,
   "id": "706841c4",
   "metadata": {},
   "outputs": [],
   "source": [
    "height_feet = float(input('Please enter the height in feet: '))\n",
    "height_inches = float(input('Please enter the height in inches: '))\n",
    "\n",
    "conversion_feet = 30.48\n",
    "conversion_inches = 2.54\n",
    "\n",
    "print('The height in feet to in centimeters: %.2f' %(height_feet * conversion_feet))\n",
    "print('The height in inches to in centimeters: %.2f' %(height_inches * conversion_inches))"
   ]
  },
  {
   "cell_type": "markdown",
   "id": "f5bd76d9",
   "metadata": {},
   "source": [
    "## Exercise 15: Distance Units\n",
    "\n",
    "In this exercise, you will create a program that begins by reading a measurement\n",
    "in feet from the user. Then your program should display the equivalent distance in\n",
    "inches, yards and miles. Use the Internet to look up the necessary conversion factors\n",
    "if you don’t have them memorized."
   ]
  },
  {
   "cell_type": "code",
   "execution_count": null,
   "id": "14e31e36",
   "metadata": {},
   "outputs": [],
   "source": [
    "distance = float(input('Please enter the distance [feet] to convert: '))\n",
    "\n",
    "inches = 12\n",
    "yards = 1/3\n",
    "miles = 0.00018939\n",
    "\n",
    "print('The distance in inches: %.2f' %(distance * inches))\n",
    "print('The distance in yards: %.2f' %(distance * yards))\n",
    "print('The distance in miles: %.2f' %(distance * miles))"
   ]
  },
  {
   "cell_type": "markdown",
   "id": "de9cf3ab",
   "metadata": {},
   "source": [
    "## Exercise 16: Area and Volume\n",
    "\n",
    "Write a program that begins by reading a radius, $r$, from the user. The program will\n",
    "continue by computing and displaying the area of a circle with radius r and the\n",
    "volume of a sphere with radius $r$. Use the pi constant in the math module in your\n",
    "calculations."
   ]
  },
  {
   "cell_type": "code",
   "execution_count": null,
   "id": "b6df2c17",
   "metadata": {},
   "outputs": [],
   "source": [
    "from math import pi\n",
    "r = float(input('Please enter the radius: ')) \n",
    "\n",
    "area = round(pi * r ** 2, 2)\n",
    "volume = round((4/3) * pi * r ** 3, 2)\n",
    "print('Area is ', area, 'and Volume is ', volume)"
   ]
  },
  {
   "cell_type": "markdown",
   "id": "4fdf3f19",
   "metadata": {},
   "source": [
    "## Exercise 17: Heat Capacity\n",
    "\n",
    "The amount of energy required to increase the temperature of one gram of a material\n",
    "by one degree Celsius is the material’s speciﬁc heat capacity, C. The total amount\n",
    "of energy, q, required to raise m grams of a material by ΔT degrees Celsius can be\n",
    "computed using the formula:\n",
    "\n",
    "$$ q = mCΔT $$\n",
    "\n",
    "Write a program that reads the mass of some water and the temperature change from\n",
    "the user. Your program should display the total amount of energy that must be added\n",
    "or removed to achieve the desired temperature change."
   ]
  },
  {
   "cell_type": "code",
   "execution_count": null,
   "id": "e776f341",
   "metadata": {},
   "outputs": [],
   "source": [
    "mass = float(input('Please enter the mass of water [kg]: '))\n",
    "temp = float(input('Please enter the temperature change [K]: '))\n",
    "capacity = 4184\n",
    "\n",
    "energy = mass * temp * capacity\n",
    "print('The total amount of energy is [J]: %.2f ' %energy)"
   ]
  },
  {
   "cell_type": "markdown",
   "id": "a515f19e",
   "metadata": {},
   "source": [
    "## Exercise 18: Volume of a Cylinder\n",
    "\n",
    "The volume of a cylinder can be computed by multiplying the area of its circular\n",
    "base by its height. Write a program that reads the radius of the cylinder, along with\n",
    "its height, from the user and computes its volume. Display the result rounded to one\n",
    "decimal place."
   ]
  },
  {
   "cell_type": "code",
   "execution_count": null,
   "id": "f9730653",
   "metadata": {},
   "outputs": [],
   "source": [
    "from math import pi\n",
    "r = float(input('Please enter the radius of the base: '))\n",
    "h = float(input('Please enter the height: '))\n",
    "volume = (pi * r ** 2) * h\n",
    "print('The volume of this cylinder is: %.2f' %volume)"
   ]
  },
  {
   "cell_type": "markdown",
   "id": "202adf9d",
   "metadata": {},
   "source": [
    "## Exercise 19: Free Fall\n",
    "\n",
    "Create a program that determines how quickly an object is travelling when it hits the\n",
    "ground. The user will enter the height from which the object is dropped in meters (m).\n",
    "Because the object is dropped its initial speed is 0 $m/s$. Assume that the acceleration\n",
    "due to gravity is 9.8 $m/s^2$. You can use the formula $v_f = \\sqrt{v_i^2 + 2ad} $ to compute the\n",
    "ﬁnal speed, $v_f$ , when the initial speed, $v_i$ , acceleration, $a$, and distance, $d$ , are known."
   ]
  },
  {
   "cell_type": "code",
   "execution_count": null,
   "id": "d2f6e978",
   "metadata": {},
   "outputs": [],
   "source": [
    "h = float(input('Please enter the height where the object is dropped [m]: '))\n",
    "v_i = 0\n",
    "a = 9.8\n",
    "\n",
    "v_f = round((v_i ** 2 + 2 * a * h) ** (1/2), 2)\n",
    "print('The object travels with a speed of', v_f, 'when it hits the ground.')"
   ]
  },
  {
   "cell_type": "markdown",
   "id": "edae50fb",
   "metadata": {},
   "source": [
    "## Exercise 20: Ideal Gas Law\n",
    "\n",
    "The ideal gas law is a mathematical approximation of the behavior of gasses as\n",
    "pressure, volume and temperature change. It is usually stated as:\n",
    "\n",
    "$$ PV = nRT$$\n",
    "\n",
    "where $P$ is the pressure in Pascals, $V$ is the volume in liters, $n$ is the amount of\n",
    "substance in moles, $R$ is the ideal gas constant, equal to 8.314 $J / mol K $, and $T$ is the temperature in degrees Kelvin.\n",
    "\n",
    "Write a program that computes the amount of gas in moles when the user supplies\n",
    "the pressure, volume and temperature. Test your program by determining the number\n",
    "of moles of gas in a SCUBA tank. A typical SCUBA tank holds 12 liters of gas at\n",
    "a pressure of 20,000,000 Pascals (approximately 3,000 PSI). Room temperature is\n",
    "approximately 20 degrees Celsius or 68 degrees Fahrenheit."
   ]
  },
  {
   "cell_type": "code",
   "execution_count": null,
   "id": "fa34e631",
   "metadata": {},
   "outputs": [],
   "source": [
    "pressure = float(input('Please enter the gas pressure [Pascal]: '))\n",
    "volume = float(input('Please enter the gas volume [l]: '))\n",
    "temp = float(input('Please enter the gas temperature [dC]: '))\n",
    "R = 8.314\n",
    "\n",
    "n = pressure * volume / (R * (temp + 273.25))\n",
    "print('The amount of gas in moles is: %.2f' %n)"
   ]
  },
  {
   "cell_type": "markdown",
   "id": "eb3becec",
   "metadata": {},
   "source": [
    "## Exercise 21: Area of a Triangle\n",
    "\n",
    "The area of a triangle can be computed using the following formula, where b is the\n",
    "length of the base of the triangle, and h is its height:\n",
    "\n",
    "$$area = \\frac{b × h}{2}$$\n",
    "\n",
    "Write a program that allows the user to enter values for b and h. The program should\n",
    "then compute and display the area of a triangle with base length b and height h."
   ]
  },
  {
   "cell_type": "code",
   "execution_count": null,
   "id": "58623908",
   "metadata": {},
   "outputs": [],
   "source": [
    "b = float(input('Please enter the value for base: '))\n",
    "h = float(input('Plese enter the value for height: '))\n",
    "area = (b * h) / 2\n",
    "print('The area of this triangle is: %.2f' %area)"
   ]
  },
  {
   "cell_type": "markdown",
   "id": "ed0b3640",
   "metadata": {},
   "source": [
    "## Exercise 22: Area of a Triangle (Again)\n",
    "\n",
    "In the previous exercise you created a program that computed the area of a triangle\n",
    "when the length of its base and its height were known. It is also possible to compute\n",
    "the area of a triangle when the lengths of all three sides are known. Let s1, s2 and s3\n",
    "be the lengths of the sides. Let $s = \\frac{s_1 + s_2 + s_3}{2}$. Then the area of the triangle\n",
    "can be calculated using the following formula:\n",
    "\n",
    "$$area = \\sqrt{s × (s − s_1) × (s − s_2) × (s − s_3)}$$\n",
    "\n",
    "Develop a program that reads the lengths of the sides of a triangle from the user and\n",
    "displays its area."
   ]
  },
  {
   "cell_type": "code",
   "execution_count": null,
   "id": "c922868e",
   "metadata": {},
   "outputs": [],
   "source": [
    "s_1 = float(input('Please enter the length of the 1st side: '))\n",
    "s_2 = float(input('Please enter the length of the 2nd side: '))\n",
    "s_3 = float(input('Please enter the length of the 3rd side: '))\n",
    "\n",
    "s = (s_1 + s_2 + s_3) / 2\n",
    "area = (s * (s - s_1) * (s - s_2) * (s - s_3)) ** (1/2)\n",
    "print('The area of this triangle is: %.2f' %area)"
   ]
  },
  {
   "cell_type": "markdown",
   "id": "106868f8",
   "metadata": {},
   "source": [
    "## Exercise 23: Area of a Regular Polygon\n",
    "\n",
    "A polygon is regular if its sides are all the same length and the angles between all of\n",
    "the adjacent sides are equal. The area of a regular polygon can be computed using\n",
    "the following formula, where s is the length of a side and n is the number of sides:\n",
    "\n",
    "$$ area = \\frac{n × s^2}{4 × tan(\\frac{\\pi}{n})} $$"
   ]
  },
  {
   "cell_type": "code",
   "execution_count": null,
   "id": "bd29c8f6",
   "metadata": {},
   "outputs": [],
   "source": [
    "from math import pi, tan\n",
    "n = float(input('Please enter the number of side belonged to this polygon: '))\n",
    "s = float(input('Please enter the length of a side: '))\n",
    "\n",
    "area = (n * s ** 2) / (4 * tan(pi / n))\n",
    "print('The area of this %.f-side polygon is: %.2f' %(s, area))"
   ]
  },
  {
   "cell_type": "markdown",
   "id": "cb95f19e",
   "metadata": {},
   "source": [
    "## Exercise 24: Units of Time\n",
    "\n",
    "Create a program that reads a duration from the user as a number of days, hours,\n",
    "minutes, and seconds. Compute and display the total number of seconds represented\n",
    "by this duration."
   ]
  },
  {
   "cell_type": "code",
   "execution_count": null,
   "id": "199bc09c",
   "metadata": {},
   "outputs": [],
   "source": [
    "d = int(input('Please enter the number of days: '))\n",
    "h = int(input('Please enter the number of hours: '))\n",
    "m = int(input('Please enter the number of minutes: '))\n",
    "s = int(input('Please enter the number of s: '))\n",
    "\n",
    "m = m * 60\n",
    "h = h * 60 * 60\n",
    "d = d * 24 * 60 * 60\n",
    "total = d + h + m + s\n",
    "print('The total duration in seconds is: %d' %total)"
   ]
  },
  {
   "cell_type": "markdown",
   "id": "eb2c3b5c",
   "metadata": {},
   "source": [
    "## Exercise 25: Units of Time (Again)\n",
    "\n",
    "In this exercise you will reverse the process described in Exercise 24. Develop a\n",
    "program that begins by reading a number of seconds from the user. Then your program\n",
    "should display the equivalent amount of time in the form D:HH:MM:SS, where D,\n",
    "HH, MM, and SS represent days, hours, minutes and seconds respectively. The hours,\n",
    "minutes and seconds should all be formatted so that they occupy exactly two digits.\n",
    "Use your research skills determine what additional character needs to be included in\n",
    "the format speciﬁer so that leading zeros are used instead of leading spaces when a\n",
    "number is formatted to a particular width."
   ]
  },
  {
   "cell_type": "code",
   "execution_count": null,
   "id": "ebe1ec80",
   "metadata": {},
   "outputs": [],
   "source": [
    "duration = int(input('Please enter the number of seconds: '))\n",
    "\n",
    "seconds_per_day = 24 * 60 * 60\n",
    "seconds_per_hour = 60 * 60\n",
    "seconds_per_minute = 60\n",
    "\n",
    "d = duration / (seconds_per_day)\n",
    "duration = duration % seconds_per_day\n",
    "\n",
    "h = duration / (seconds_per_hour)\n",
    "duration = duration % seconds_per_hour\n",
    "\n",
    "m = duration / (seconds_per_minute)\n",
    "duration = duration % seconds_per_minute\n",
    "\n",
    "print('The equivalent amount of time in [D:HH:MM:SS] format is: %d:%02d:%02d:%02d' %(d, h, m, duration))"
   ]
  },
  {
   "cell_type": "markdown",
   "id": "31c17877",
   "metadata": {},
   "source": [
    "## Exercise 26: Current Time\n",
    "\n",
    "Python’s `time` module includes several time-related functions. One of these is the\n",
    "`asctime` function which reads the current time from the computer’s internal clock\n",
    "and returns it in a human-readable format. Use this function to write a program that\n",
    "displays the current time and date. Your program will not require any input from the\n",
    "user."
   ]
  },
  {
   "cell_type": "code",
   "execution_count": null,
   "id": "2122ec16",
   "metadata": {},
   "outputs": [],
   "source": [
    "import time\n",
    "from time import asctime, localtime\n",
    "\n",
    "print('The current time is: ', asctime(localtime()))"
   ]
  },
  {
   "cell_type": "markdown",
   "id": "56d6229d",
   "metadata": {},
   "source": [
    "## Exercise 27: When is Easter?\n",
    "\n",
    "Easter is celebrated on the Sunday immediately after the ﬁrst full moon following the\n",
    "spring equinox. Because its date includes a lunar component, Easter does not have\n",
    "a ﬁxed date in the Gregorian calendar. Instead, it can occur on any date between March 22 and April 25. The month and day for Easter can be computed for a given\n",
    "year using the Anonymous Gregorian Computus algorithm, which is shown below.\n",
    "\n",
    "Set a equal to the remainder when year is divided by 19\n",
    "\n",
    "Set b equal to the ﬂoor of year divided by 100\n",
    "\n",
    "Set c equal to the remainder when year is divided by 100\n",
    "\n",
    "Set d equal to the ﬂoor of b divided by 4\n",
    "\n",
    "Set e equal to the remainder when b is divided by 4\n",
    "\n",
    "Set f equal to the ﬂoor of $\\frac{b + 8}{25}$\n",
    "\n",
    "Set g equal to the ﬂoor of $\\frac{b − f + 1}{3}$\n",
    "\n",
    "Set h equal to the remainder when $19a + b − d − g + 15$ is divided by 30\n",
    "\n",
    "Set i equal to the ﬂoor of c divided by 4\n",
    "\n",
    "\n",
    "Set k equal to the remainder when c is divided by 4\n",
    "\n",
    "Set l equal to the remainder when $32 + 2e + 2i − h − k$ is divided by 7\n",
    "\n",
    "Set m equal to the ﬂoor of $\\frac{a + 11h + 22l}{451}$\n",
    "\n",
    "Set month equal to the ﬂoor of $\\frac{h + l − 7m + 114}{31}$\n",
    "\n",
    "Set day equal to one plus the remainder when $h + l − 7m + 114$ is divided\n",
    "by 31\n",
    "\n",
    "Write a program that implements the Anonymous Gregorian Computus algorithm\n",
    "to compute the date of Easter. Your program should read the year from the user and\n",
    "then display a appropriate message that includes the date of Easter in that year."
   ]
  },
  {
   "cell_type": "code",
   "execution_count": null,
   "id": "b7b2caac",
   "metadata": {},
   "outputs": [],
   "source": [
    "year = int(input('Please enter the year to compute the date of Easter: '))\n",
    "\n",
    "a = year % 19\n",
    "b = year // 100\n",
    "c = year % 100\n",
    "d = b // 4\n",
    "e = b % 4\n",
    "f = (b + 8) // 25\n",
    "g = (b - f + 1) // 3\n",
    "h = (19 * a + b - d - g + 15) % 30\n",
    "i = c // 4\n",
    "k = c % 4\n",
    "l = (32 + 2 * e + 2 * i - h - k) % 7\n",
    "m = (a + 11 * h + 22 * l) // 451\n",
    "\n",
    "month = (h + l - 7 *m + 114) // 31\n",
    "day = 1 + ((h + l - 7*m + 114 ) % 31)\n",
    "\n",
    "print('The date is: Sunday %d/%d/%d' %(day, month, year))"
   ]
  },
  {
   "cell_type": "markdown",
   "id": "31e6cb42",
   "metadata": {},
   "source": [
    "## Exercise 28:\n",
    "Write a program that computes the body mass index (BMI) of an individual. Your\n",
    "program should begin by reading a height and weight from the user. Then it should\n",
    "use one of the following two formulas to compute the BMI before displaying it. If\n",
    "you read the height in inches and the weight in pounds then body mass index is\n",
    "computed using the following formula:\n",
    "$$ BMI = \\frac{weight}{height × height × 703}$$\n",
    "If you read the height in meters and the weight in kilograms then body mass index\n",
    "is computed using this slightly simpler formula:\n",
    "$$ BMI = \\frac{weight}{height × height}$$"
   ]
  },
  {
   "cell_type": "code",
   "execution_count": null,
   "id": "f76b1e04",
   "metadata": {},
   "outputs": [],
   "source": [
    "h = float(input('Please enter the height [m]: '))\n",
    "w = float(input('Pleaase enter the weight [kg]: '))\n",
    "BMI = w / (h * h)\n",
    "print('The equivalent BMI is: %02.f' %BMI)"
   ]
  },
  {
   "cell_type": "markdown",
   "id": "8a700848",
   "metadata": {},
   "source": [
    "## Exercise 29: Wind Chill\n",
    "\n",
    "When the wind blows in cold weather, the air feels even colder than it actually is\n",
    "because the movement of the air increases the rate of cooling for warm objects, like\n",
    "people. This effect is known as wind chill.\n",
    "In 2001, Canada, the United Kingdom and the United States adopted the fol-\n",
    "lowing formula for computing the wind chill index. Within the formula Ta is the\n",
    "air temperature in degrees Celsius and V is the wind speed in kilometers per hour.\n",
    "A similar formula with different constant values can be used for temperatures in\n",
    "degrees Fahrenheit and wind speeds in miles per hour.\n",
    "\n",
    "$$ WCI = 13.12 + 0.6215T_a − 11.37V ^{0.16} + 0.3965T_a V^{0.16}$$\n",
    "\n",
    "Write a program that begins by reading the air temperature and wind speed from the\n",
    "user. Once these values have been read your program should display the wind chill\n",
    "index rounded to the closest integer.\n",
    "\n",
    "Note: The wind chill index is only considered valid for temperatures less than or\n",
    "equal to 10 degrees Celsius and wind speeds exceeding 4.8 kilometers per\n",
    "hour."
   ]
  },
  {
   "cell_type": "code",
   "execution_count": null,
   "id": "e85de81c",
   "metadata": {},
   "outputs": [],
   "source": [
    "speed = float(input('Please enter the wind speed [km/h] that is greater than 4.8 km/h: '))\n",
    "temp = float(input('Please enter the air temeperature [dgC] that is less or equal to 10 dgC: '))\n",
    "\n",
    "WCI = round(13.12 + 0.6215 * temp - 11.37 * (speed ** 0.16) + 0.3965 * temp * (speed ** 0.16), 0)\n",
    "print('The equivalent wind chill index is: %d' %int(WCI))"
   ]
  },
  {
   "cell_type": "markdown",
   "id": "0c8544d0",
   "metadata": {},
   "source": [
    "## Exercise 30: Celsius to Fahrenheit and Kelvin\n",
    "\n",
    "Write a program that begins by reading a temperature from the user in degrees\n",
    "Celsius. Then your program should display the equivalent temperature in degrees\n",
    "Fahrenheit and degrees Kelvin. The calculations needed to convert between different\n",
    "units of temperature can be found on the Internet."
   ]
  },
  {
   "cell_type": "code",
   "execution_count": null,
   "id": "88bfcd98",
   "metadata": {},
   "outputs": [],
   "source": [
    "tempC = float(input('Please enter the temperature to be convert [dgC]: '))\n",
    "\n",
    "tempF = tempC * (9/5) + 32\n",
    "tempK = tempC + 273.15\n",
    "print('The equivalent temperature in [dgF]: ', tempF)\n",
    "print('The equivalent temperature in [dgK]: ', tempK)"
   ]
  },
  {
   "cell_type": "markdown",
   "id": "78c92f77",
   "metadata": {},
   "source": [
    "## Exercise 31: Units of Pressure\n",
    "\n",
    "In this exercise you will create a program that reads a pressure from the user in kilo-\n",
    "pascals. Once the pressure has been read your program should report the equivalent\n",
    "pressure in pounds per square inch, millimeters of mercury and atmospheres. Use\n",
    "your research skills to determine the conversion factors between these units."
   ]
  },
  {
   "cell_type": "code",
   "execution_count": null,
   "id": "5a771c2b",
   "metadata": {},
   "outputs": [],
   "source": []
  },
  {
   "cell_type": "markdown",
   "id": "612d9280",
   "metadata": {},
   "source": [
    "## Exercise 32: Sum of the Digits in an Integer\n",
    "\n",
    "Develop a program that reads a four-digit integer from the user and displays the sum\n",
    "of its digits. For example, if the user enters 3141 then your program should display\n",
    "$3 +1 +4 +1 = 9$."
   ]
  },
  {
   "cell_type": "code",
   "execution_count": null,
   "id": "b349868f",
   "metadata": {
    "scrolled": true
   },
   "outputs": [],
   "source": [
    "integer = int(input('Please enter the four-digit integer for computation: '))\n",
    "\n",
    "x1 = integer // 1000\n",
    "x2 = (integer - x1 * 1000) // 100\n",
    "x3 = (integer - x1 * 1000 - x2 * 100) // 10\n",
    "x4 = integer - x1 * 1000 - x2 * 100 - x3 * 10\n",
    "\n",
    "sum = x1 + x2 + x3 + x4\n",
    "print('The sum of its digits is:', sum)"
   ]
  },
  {
   "cell_type": "markdown",
   "id": "fccefd46",
   "metadata": {},
   "source": [
    "## Exercise 33: Sort 3 Integers\n",
    "\n",
    "Create a program that reads three integers from the user and displays them in sorted\n",
    "order (from smallest to largest). Use the min and max functions to ﬁnd the smallest\n",
    "and largest values. The middle value can be found by computing the sum of all three\n",
    "values, and then subtracting the minimum value and the maximum value."
   ]
  },
  {
   "cell_type": "code",
   "execution_count": null,
   "id": "636a61b5",
   "metadata": {},
   "outputs": [],
   "source": [
    "x1 = int(input('Please enter the first integer: '))\n",
    "x2 = int(input('Please enter the second integer: '))\n",
    "x3 = int(input('Please enter the third integer: '))\n",
    "\n",
    "min_x = min(x1, x2, x3)\n",
    "max_x = max(x1, x2, x3)\n",
    "mid_x = x1 + x2 + x3 - min_x - max_x\n",
    "print('The order of integers from smallest to largest is: %d %d %d' %(min_x, mid_x, max_x))"
   ]
  },
  {
   "cell_type": "markdown",
   "id": "e16c6ac2",
   "metadata": {},
   "source": [
    "## Exercise 34: Day Old Bread\n",
    "\n",
    "A bakery sells loaves of bread for $\\$$3.49 each. Day old bread is discounted by 60\n",
    "percent. Write a program that begins by reading the number of loaves of day old\n",
    "bread being purchased from the user. Then your program should display the regular\n",
    "price for the bread, the discount because it is a day old, and the total price. Each of\n",
    "these amounts should be displayed on its own line with an appropriate label. All of\n",
    "the values should be displayed using two decimal places, and the decimal points in\n",
    "all of the numbers should be aligned when reasonable values are entered by the user."
   ]
  },
  {
   "cell_type": "code",
   "execution_count": null,
   "id": "f8c29b28",
   "metadata": {},
   "outputs": [],
   "source": [
    "discount = 0.6\n",
    "price = 3.49\n",
    "\n",
    "breads = float(input('Please enter the amount of day-old breads you purchased: '))\n",
    "print('Regular price for each bread:', price,'$')\n",
    "print('Discount because the bread is day old:', discount * 100, '%')\n",
    "print('Total price:', breads * discount * price, '$')"
   ]
  },
  {
   "cell_type": "code",
   "execution_count": null,
   "id": "6be51ebf",
   "metadata": {},
   "outputs": [],
   "source": []
  }
 ],
 "metadata": {
  "kernelspec": {
   "display_name": "Python 3",
   "language": "python",
   "name": "python3"
  },
  "language_info": {
   "codemirror_mode": {
    "name": "ipython",
    "version": 3
   },
   "file_extension": ".py",
   "mimetype": "text/x-python",
   "name": "python",
   "nbconvert_exporter": "python",
   "pygments_lexer": "ipython3",
   "version": "3.7.10"
  }
 },
 "nbformat": 4,
 "nbformat_minor": 5
}
