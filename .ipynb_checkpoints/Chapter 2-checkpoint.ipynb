{
 "cells": [
  {
   "cell_type": "markdown",
   "id": "4cdcbc48-dcb0-4304-a06e-a72d694b5fd3",
   "metadata": {},
   "source": [
    "## Exercise 35: Even or Odd?\n",
    "Write a program that reads an integer from the user. Then your program should\n",
    "display a message indicating whether the integer is even or odd."
   ]
  },
  {
   "cell_type": "code",
   "execution_count": null,
   "id": "8a8acd1b-99af-485a-b5f8-d570432a921a",
   "metadata": {},
   "outputs": [],
   "source": [
    "number = int(input('Enter an integer: '))\n",
    "remainder = number % 2\n",
    "             \n",
    "if (remainder == 0):\n",
    "    print('This is an even.')\n",
    "else:\n",
    "    print('This is an odd.')       "
   ]
  },
  {
   "cell_type": "markdown",
   "id": "967cc3a8-ad10-4900-a4a0-22b27f76c8b6",
   "metadata": {},
   "source": [
    "## Exercise 36: Dog Years\n",
    "It is commonly said that one human year is equivalent to 7 dog years. However this\n",
    "simple conversion fails to recognize that dogs reach adulthood in approximately two\n",
    "years. As a result, some people believe that it is better to count each of the first two\n",
    "human years as 10.5 dog years, and then count each additional human year as 4 dog\n",
    "years.\n",
    "Write a program that implements the conversion from human years to dog years\n",
    "described in the previous paragraph. Ensure that your program works correctly for\n",
    "conversions of less than two human years and for conversions of two or more human\n",
    "years. Your program should display an appropriate error message if the user enters\n",
    "a negative number."
   ]
  },
  {
   "cell_type": "code",
   "execution_count": 3,
   "id": "e886b5a7-1153-4312-af54-bcdc2cb794cb",
   "metadata": {},
   "outputs": [
    {
     "name": "stdin",
     "output_type": "stream",
     "text": [
      "Enter the human years to convert to dog years:  10\n"
     ]
    },
    {
     "name": "stdout",
     "output_type": "stream",
     "text": [
      "The equivalent dog years are: 53.0\n"
     ]
    }
   ],
   "source": [
    "human_year = int(input('Enter the human years to convert to dog years: '))\n",
    "\n",
    "if (human_year <= 2):\n",
    "    dog_year = 10.5  * human_year\n",
    "    print(f\"The equivalent dog years are: {dog_year}\")\n",
    "elif (human_year > 2):\n",
    "    dog_year = 2 * 10.5 + (human_year - 2) * 4\n",
    "    print(f\"The equivalent dog years are: {dog_year}\")\n",
    "else:\n",
    "    print('You enter the wrong number type!')\n"
   ]
  },
  {
   "cell_type": "markdown",
   "id": "e3e1bbd5-b7e1-4ec4-a99e-19fbf8059094",
   "metadata": {},
   "source": [
    "## Exercise 37: Vowel or Consonant\n",
    "In this exercise you will create a program that reads a letter of the alphabet from the\n",
    "user. If the user enters a, e, i, o or u then your program should display a message\n",
    "indicating that the entered letter is a vowel. If the user enters y then your program\n",
    "should display a message indicating that sometimes y is a vowel, and sometimes y is\n",
    "a consonant. Otherwise your program should display a message indicating that the\n",
    "letter is a consonant."
   ]
  },
  {
   "cell_type": "code",
   "execution_count": 5,
   "id": "0c88a3cb-bdc9-4a67-af8d-537936883f83",
   "metadata": {},
   "outputs": [
    {
     "name": "stdin",
     "output_type": "stream",
     "text": [
      "Please enter a letter from the alphabet:  a\n"
     ]
    },
    {
     "name": "stdout",
     "output_type": "stream",
     "text": [
      "This is a vowel\n"
     ]
    }
   ],
   "source": [
    "letter = input('Please enter a letter from the alphabet: ')\n",
    "\n",
    "if (letter == 'a') | (letter == 'e') | (letter == 'i') | (letter == 'o') | (letter == 'u') :\n",
    "    print('This is a vowel')\n",
    "else:\n",
    "    print('This is a consonant')"
   ]
  },
  {
   "cell_type": "markdown",
   "id": "277d89f1-4982-4f99-8946-c3e183330fd4",
   "metadata": {},
   "source": [
    "## Exercise 38: Name That Shape\n",
    "Write a program that determines the name of a shape from its number of sides. Read\n",
    "the number of sides from the user and then report the appropriate name as part of\n",
    "a meaningful message. Your program should support shapes with anywhere from 3\n",
    "up to (and including) 10 sides. If a number of sides outside of this range is entered\n",
    "then your program should display an appropriate error message"
   ]
  },
  {
   "cell_type": "code",
   "execution_count": 10,
   "id": "f5f5c083-bb67-42cc-aba4-52f2f1996d03",
   "metadata": {},
   "outputs": [
    {
     "name": "stdin",
     "output_type": "stream",
     "text": [
      "Please enter the number of sides of a shape:  11\n"
     ]
    },
    {
     "name": "stdout",
     "output_type": "stream",
     "text": [
      "This number of sides is not supported!\n"
     ]
    }
   ],
   "source": [
    "sides = int(input('Please enter the number of sides of a shape: '))\n",
    "name = ['triangle', 'quadrilateral', 'pentagon', 'hexagon', 'heptagon', 'octagon', 'nonagon', 'decagon']\n",
    "            \n",
    "if (sides < 3) | (sides > 10):\n",
    "    print('This number of sides is not supported!')\n",
    "else:\n",
    "    idx = sides - 3\n",
    "    print(f'This shape is a/an {name[idx]}')      "
   ]
  },
  {
   "cell_type": "markdown",
   "id": "255825d9-ea7f-44e3-8e20-4bf66245ef26",
   "metadata": {},
   "source": [
    "Exercise 39: Month Name to Number of Days\n",
    "The length of a month varies from 28 to 31 days. In this exercise you will create\n",
    "a program that reads the name of a month from the user as a string. Then your\n",
    "program should display the number of days in that month. Display “28 or 29 days”\n",
    "for February so that leap years are addressed."
   ]
  }
 ],
 "metadata": {
  "kernelspec": {
   "display_name": "Python 3 (ipykernel)",
   "language": "python",
   "name": "python3"
  },
  "language_info": {
   "codemirror_mode": {
    "name": "ipython",
    "version": 3
   },
   "file_extension": ".py",
   "mimetype": "text/x-python",
   "name": "python",
   "nbconvert_exporter": "python",
   "pygments_lexer": "ipython3",
   "version": "3.8.8"
  }
 },
 "nbformat": 4,
 "nbformat_minor": 5
}
